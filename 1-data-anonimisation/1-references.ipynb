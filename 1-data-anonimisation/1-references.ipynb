{
 "cells": [
  {
   "cell_type": "code",
   "execution_count": null,
   "metadata": {},
   "outputs": [],
   "source": [
    "# Optional: setup NoTexBook theme\n",
    "%load_ext notexbook\n",
    "%texify -fs 18"
   ]
  },
  {
   "cell_type": "markdown",
   "metadata": {},
   "source": [
    "# Preamble & References\n",
    "\n",
    "The material in this section has been **adapted** and **extended** from their original versions available on the wonderful (online) book entitled **Programming Differential Privacy**, _Differential privacy, for programmers_.\n",
    "\n",
    "The book is intended to give you an introduction to the challenges of data privacy, introducing the techniques that have been developed for addressing those challenges, and help you understand how to implement some of those techniques.\n",
    "\n",
    "(from _Introduction_ Chapter):\n",
    "\n",
    "> This book assumes a working knowledge of Python, as well as basic knowledge of the `pandas` and NumPy libraries.\n",
    "> You will also benefit from some background in discrete mathematics and probability - a basic undergraduate course in these topics should be more than sufficient."
   ]
  },
  {
   "cell_type": "markdown",
   "metadata": {},
   "source": [
    "**Source**: \n",
    "\n",
    "- (HTML Version): [programming-dp.com](https://programming-dp.com)\n",
    "- (GitHub): [github.com/uvm-plaid/programming-dp](https://github.com/uvm-plaid/programming-dp)"
   ]
  },
  {
   "cell_type": "code",
   "execution_count": 1,
   "metadata": {},
   "outputs": [],
   "source": [
    "import pandas as pd\n",
    "import numpy as np\n",
    "import matplotlib.pyplot as plt\n",
    "import matplotlib.patheffects as path_effects\n",
    "plt.style.use('seaborn-v0_8-whitegrid')"
   ]
  },
  {
   "cell_type": "code",
   "execution_count": 2,
   "metadata": {},
   "outputs": [],
   "source": [
    "ys1 = [np.random.laplace(loc=0, scale=1) for _ in range(10000)]\n",
    "ys2 = [np.random.laplace(loc=1, scale=1) for _ in range(10000)]"
   ]
  },
  {
   "cell_type": "code",
   "execution_count": 3,
   "metadata": {},
   "outputs": [],
   "source": [
    "import matplotlib\n",
    "f = matplotlib.font_manager.FontProperties(family='Roboto', weight='bold')"
   ]
  },
  {
   "cell_type": "code",
   "execution_count": 4,
   "metadata": {},
   "outputs": [
    {
     "data": {
      "image/png": "[encoded data removed]",
      "text/plain": [
       "<Figure size 1200x320 with 1 Axes>"
      ]
     },
     "metadata": {},
     "output_type": "display_data"
    }
   ],
   "source": [
    "plt.figure(figsize=(15, 4), dpi=80)\n",
    "_, bins, _ = plt.hist(ys1, bins=100, color='#66AC47',\n",
    "                     path_effects=[path_effects.withSimplePatchShadow(alpha=.1, offset=(1,-1))])\n",
    "\n",
    "plt.hist(ys2, bins=bins, alpha=.7, color='#A7D4EE',\n",
    "        path_effects=[path_effects.withSimplePatchShadow(alpha=.1, offset=(1,-1))])\n",
    "\n",
    "plt.axis('off');\n",
    "plt.grid('off');\n",
    "\n",
    "plt.text(-2.6, -220, 'Programming', fontproperties=f, fontsize=24, \n",
    "         color='#007155', \n",
    "         path_effects=[path_effects.withSimplePatchShadow(offset=(1, -1), alpha=.1)])\n",
    "\n",
    "plt.text(0.4, -220, 'Differential Privacy', fontproperties=f, fontsize=24, color='#66AC47',\n",
    "         path_effects=[path_effects.withSimplePatchShadow(offset=(1, -1), alpha=.1)])\n",
    "\n",
    "plt.tight_layout()"
   ]
  },
  {
   "cell_type": "markdown",
   "metadata": {
    "tags": []
   },
   "source": [
    "## Data privacy\n",
    "\n",
    "> **Definition**\n",
    "> *Data privacy* techniques have the goal of allowing analysts to learn about *trends* in \n",
    "> sensitive data, without revealing information specific to *individuals*.\n",
    "\n",
    "This is a broad definition, and many different techniques fall under it. \n",
    "\n",
    "But it's important to note what this definition *excludes*: techniques for ensuring *security*, like encryption. \n",
    "\n",
    "Encrypted data doesn't reveal *anything* - so it fails to meet the first requirement of our definition. \n",
    "\n",
    "The distinction between **security** and **privacy** is an important one: \n",
    "\n",
    "- **Privacy** techniques involve an *intentional* release of information, and attempt to control *what can be learned* from that release; \n",
    "\n",
    "- **Security** techniques usually *prevent* the release of information, and control *who can access* data."
   ]
  }
 ],
 "metadata": {
  "kernelspec": {
   "display_name": "Python 3 (ipykernel)",
   "language": "python",
   "name": "python3"
  },
  "language_info": {
   "codemirror_mode": {
    "name": "ipython",
    "version": 3
   },
   "file_extension": ".py",
   "mimetype": "text/x-python",
   "name": "python",
   "nbconvert_exporter": "python",
   "pygments_lexer": "ipython3",
   "version": "3.10.12"
  }
 },
 "nbformat": 4,
 "nbformat_minor": 4
}
