{
 "cells": [
  {
   "cell_type": "code",
   "execution_count": null,
   "metadata": {},
   "outputs": [],
   "source": [
    "# Optional: setup NoTexBook theme\n",
    "%load_ext notexbook\n",
    "%texify"
   ]
  },
  {
   "cell_type": "markdown",
   "metadata": {},
   "source": [
    "**Adapted from**: [Ch1](https://github.com/uvm-plaid/programming-dp/blob/master/notebooks/ch1.ipynb)"
   ]
  },
  {
   "cell_type": "markdown",
   "metadata": {
    "tags": [
     "remove-cell"
    ]
   },
   "source": [
    "# De-Identification\n",
    "\n",
    "### Dataset\n",
    "\n",
    "The dataset is based on census data. The personally identifiable information (**PII**) is made up."
   ]
  },
  {
   "cell_type": "code",
   "execution_count": null,
   "metadata": {},
   "outputs": [],
   "source": [
    "import pandas as pd\n",
    "import numpy as np\n",
    "import matplotlib.pyplot as plt"
   ]
  },
  {
   "cell_type": "code",
   "execution_count": null,
   "metadata": {},
   "outputs": [],
   "source": [
    "DATASET_URL = \"https://raw.githubusercontent.com/uvm-plaid/programming-dp/master/notebooks/adult_with_pii.csv\""
   ]
  },
  {
   "cell_type": "code",
   "execution_count": null,
   "metadata": {
    "tags": [
     "remove-cell"
    ]
   },
   "outputs": [],
   "source": [
    "adult = pd.read_csv(DATASET_URL)\n",
    "adult.head()"
   ]
  },
  {
   "cell_type": "markdown",
   "metadata": {},
   "source": [
    "# De-identification"
   ]
  },
  {
   "cell_type": "markdown",
   "metadata": {},
   "source": [
    "*De-identification* is the process of removing *identifying information* from a dataset. The term *de-identification* is sometimes used as a synonym for other terms like *anonymization* or *pseudonymization*.\n",
    "\n",
    "> **Learning Objectives**\n",
    "> - Define the following concepts:\n",
    ">   - De-identification & Re-identification\n",
    ">   - Identifying information / personally identifying information\n",
    "> - Learn Example of (Data) Attacks\n",
    ">   - Linking & Differencing Attacks\n",
    ">   - Understand limitations of aggregate statistics"
   ]
  },
  {
   "cell_type": "markdown",
   "metadata": {},
   "source": [
    "### Personal Identifiable Information\n",
    "\n",
    "Identifying information has no formal definition. It is usually understood to be information which would be used to identify us uniquely in the course of daily life - name, address, phone number, e-mail address, etc. \n",
    "\n",
    "As we will see later, it's *impossible* to formalize the concept of identifying information, because *all* information is identifying. \n",
    "\n",
    "The term **personally identifiable information** (`PII`) is often used as a synonym for \"identifying information\"."
   ]
  },
  {
   "cell_type": "markdown",
   "metadata": {},
   "source": [
    "**Q**: How should we **de-identify** information? \n",
    "\n",
    "**A**: Easy - we just remove the columns that contain identifying information!"
   ]
  },
  {
   "cell_type": "code",
   "execution_count": null,
   "metadata": {},
   "outputs": [],
   "source": [
    "adult_de_identified = adult.copy().drop(columns=['Name', 'SSN'])\n",
    "adult_de_identified.head(1)"
   ]
  },
  {
   "cell_type": "markdown",
   "metadata": {},
   "source": [
    "> 💡 We'll save some of the identifying information for later, when we'll use it as *auxiliary data* to perform a *re-identification* attack."
   ]
  },
  {
   "cell_type": "markdown",
   "metadata": {},
   "source": [
    "Selected **PPI**s in the dataset:"
   ]
  },
  {
   "cell_type": "code",
   "execution_count": null,
   "metadata": {},
   "outputs": [],
   "source": [
    "adult_pii = adult[['Name', 'SSN', 'DOB', 'Zip']]\n",
    "adult_pii.head()"
   ]
  },
  {
   "cell_type": "markdown",
   "metadata": {},
   "source": [
    "## Linking Attacks\n",
    "\n",
    "Imagine we want to determine the income of a friend from our de-identified data. \n",
    "\n",
    "Names have been removed, but we happen to know some _auxiliary information_ about our friend. \n",
    "\n",
    "Our friend's name is **Karrie Trusslove**, and we know Karrie's date of birth and zip code."
   ]
  },
  {
   "cell_type": "markdown",
   "metadata": {},
   "source": [
    "To perform a simple **linking attack**, we look at the _overlapping columns between the dataset_ we're trying to attack, and the auxiliary data we know.\n",
    "\n",
    "In this case, both datasets have dates of birth and zip codes.\n",
    "\n",
    "We look for rows in the dataset we're attacking with `dates of birth` and `zip codes` that match Karrie's `date of birth` and `zip code`.\n",
    "\n",
    "If there is **only one** such row, we've found Karrie's row in the dataset we're attacking. \n",
    "\n",
    "In databases, this is called a **JOIN** of two tables, and we can do it in Pandas using `merge`."
   ]
  },
  {
   "cell_type": "code",
   "execution_count": null,
   "metadata": {},
   "outputs": [],
   "source": [
    "karries_row = adult_pii[adult_pii['Name'] == 'Karrie Trusslove']\n",
    "karries_row"
   ]
  },
  {
   "cell_type": "code",
   "execution_count": null,
   "metadata": {},
   "outputs": [],
   "source": [
    "auxiliary_info = karries_row[[\"DOB\", \"Zip\"]]\n",
    "auxiliary_info.head()"
   ]
  },
  {
   "cell_type": "code",
   "execution_count": null,
   "metadata": {},
   "outputs": [],
   "source": [
    "\n",
    "pd.merge(auxiliary_info, adult_de_identified, left_on=['DOB', 'Zip'], right_on=['DOB', 'Zip'])"
   ]
  },
  {
   "cell_type": "markdown",
   "metadata": {},
   "source": [
    "> 💡 Indeed, there is only one row that matches.\n",
    "> We have used **auxiliary data** to re-identify an individual in a de-identified dataset, and we're able to infer that Karrie's income is less than `$50k`."
   ]
  },
  {
   "cell_type": "markdown",
   "metadata": {},
   "source": [
    "### How Hard is it to Re-Identify Karrie?"
   ]
  },
  {
   "cell_type": "markdown",
   "metadata": {},
   "source": [
    "This scenario is made up, but linking attacks are surprisingly easy to perform in practice.\n",
    "\n",
    "How easy? It turns out that in many cases, just one data point is sufficient to pinpoint a row!"
   ]
  },
  {
   "cell_type": "code",
   "execution_count": null,
   "metadata": {},
   "outputs": [],
   "source": [
    "pd.merge(auxiliary_info, adult_de_identified, left_on=['Zip'], right_on=['Zip'])"
   ]
  },
  {
   "cell_type": "markdown",
   "metadata": {},
   "source": [
    "So ZIP code is sufficient **by itself** to allow us to re-identify Karrie. What about date of birth?"
   ]
  },
  {
   "cell_type": "code",
   "execution_count": null,
   "metadata": {},
   "outputs": [],
   "source": [
    "pd.merge(auxiliary_info, adult_de_identified, left_on=['DOB'], right_on=['DOB'])"
   ]
  },
  {
   "cell_type": "markdown",
   "metadata": {},
   "source": [
    "This time, there are three rows returned - and we don't know which one is the real Karrie. \n",
    "\n",
    "**But we've still learned a lot about our dataset!**\n",
    "\n",
    "- We know that there's a 2/3 chance that Karrie's income is less than $50k\n",
    "- We can look at the differences between the rows to determine what additional auxiliary information would *help* us to distinguish them (e.g. sex, occupation, marital status)"
   ]
  },
  {
   "cell_type": "markdown",
   "metadata": {},
   "source": [
    "#### Is Karrie Special?"
   ]
  },
  {
   "cell_type": "markdown",
   "metadata": {},
   "source": [
    "How hard is it to re-identify others in the dataset? \n",
    "\n",
    "Is Karrie especially easy or especially difficult to re-identify? \n",
    "\n",
    "A good way to understand the effectiveness of this type of attack is to look at how **selective** certain pieces of data are.\n",
    "\n",
    "In other words, how good they are at narrowing down the set of potential rows which may belong to the target individual.\n",
    "\n",
    "For example, is it common for `birth dates` to occur more than once ?\n",
    "\n",
    "We'd like to get an idea of how many dates of birth are likely to be useful in performing an attack, which we can do by looking at how common \"unique\" dates of birth are in the dataset."
   ]
  },
  {
   "cell_type": "code",
   "execution_count": null,
   "metadata": {
    "tags": [
     "hide-input"
    ]
   },
   "outputs": [],
   "source": [
    "adult_pii['DOB'].value_counts().hist()\n",
    "\n",
    "plt.title(\"How selective is date of birth as PII ?\")\n",
    "plt.xlabel('Number of Dates of Birth')\n",
    "plt.ylabel('Number of Occurrences');"
   ]
  },
  {
   "cell_type": "markdown",
   "metadata": {},
   "source": [
    "The histogram above shows that *the vast majority* of dates of birth occur 1, 2, or 3 times in the dataset, and *no date of birth* occurs more than 8 times. \n",
    "\n",
    "This means that date of birth is **fairly selective** - it's effective in narrowing down the possible records for an individual."
   ]
  },
  {
   "cell_type": "markdown",
   "metadata": {},
   "source": [
    "#### Quick Exercise:\n",
    "\n",
    "Let's try to repeat the experiment with `ZIP` codes:"
   ]
  },
  {
   "cell_type": "code",
   "execution_count": null,
   "metadata": {},
   "outputs": [],
   "source": [
    "# your code here\n"
   ]
  },
  {
   "cell_type": "markdown",
   "metadata": {},
   "source": [
    "<details>\n",
    "\n",
    "<summary>Solution</summary>\n",
    "\n",
    "```python\n",
    "adult_pii['Zip'].value_counts().hist()\n",
    "\n",
    "plt.title(\"How selective is date of birth as PII ?\")\n",
    "plt.xlabel('Number of ZIP Codes')\n",
    "plt.ylabel('Number of Occurrences');\n",
    "```\n",
    "</details>"
   ]
  },
  {
   "cell_type": "markdown",
   "metadata": {},
   "source": [
    "<details>\n",
    "\n",
    "<summary>Considerations</summary>\n",
    "\n",
    "The results when using ZIP code happens to be even worse: ZIP code is *very* selective in this dataset. \n",
    "\n",
    "Nearly all the ZIP codes occur only once.\n",
    "</details>"
   ]
  },
  {
   "cell_type": "markdown",
   "metadata": {},
   "source": [
    "### How Many People can we Re-Identify?"
   ]
  },
  {
   "cell_type": "markdown",
   "metadata": {},
   "source": [
    "**Q**: In this dataset, how many people can we re-identify uniquely?\n",
    "\n",
    "We can use our auxiliary information to find out!\n",
    "\n",
    "First, let's see what happens with just `dates of birth`.\n",
    "\n",
    "We want to know how many *possible identities* are returned for each data record in the dataset."
   ]
  },
  {
   "cell_type": "code",
   "execution_count": null,
   "metadata": {
    "scrolled": true,
    "tags": [
     "hide-input"
    ]
   },
   "outputs": [],
   "source": [
    "attack = pd.merge(adult_pii, adult_de_identified, left_on=['DOB'], right_on=['DOB'])\n",
    "attack['Name'].value_counts().hist();\n",
    "\n",
    "plt.title(\"How many records can we identify with DoB ?\")\n",
    "plt.xlabel(\"Entries count\")\n",
    "plt.ylabel(\"Number of Records\")\n",
    "plt.show()"
   ]
  },
  {
   "cell_type": "markdown",
   "metadata": {},
   "source": [
    "\n",
    "The above histogram shows the **number of records with each number of possible identities**.\n",
    "\n",
    "The results show that we can uniquely identify almost `7,000` of the data records (out of about `32,000`), and an additional `10,000` data records are narrowed down to **only two** possible identities."
   ]
  },
  {
   "cell_type": "markdown",
   "metadata": {},
   "source": [
    "So it's not possible to re-identify a majority of individuals using *just* date of birth. \n",
    "\n",
    "What if we collect more information, to narrow things down further? \n",
    "\n",
    "If we use **both** `date of birth` and `ZIP`, we're able to do much better. \n",
    "\n",
    "In fact, we're able to uniquely re-identify basically the whole dataset."
   ]
  },
  {
   "cell_type": "code",
   "execution_count": null,
   "metadata": {
    "scrolled": true,
    "tags": [
     "hide-input"
    ]
   },
   "outputs": [],
   "source": [
    "attack = pd.merge(adult_pii, adult_de_identified, left_on=['DOB', 'Zip'], right_on=['DOB', 'Zip'])\n",
    "\n",
    "attack['Name'].value_counts().hist();\n",
    "plt.title(\"How many records can we identify with DoB & ZIP ?\")\n",
    "plt.xlabel(\"Entries count\")\n",
    "plt.ylabel(\"Number of Records\")\n",
    "plt.show()"
   ]
  },
  {
   "cell_type": "markdown",
   "metadata": {},
   "source": [
    "> 💡 When we use both pieces of information, we can re-identify **essentially everyone**. \n",
    "\n",
    "This is a surprising result, since we generally assume that many people share the same birthday, and many people live in the same ZIP code.\n",
    "\n",
    "It turns out that the *combination* of these factors is **extremely** selective.\n",
    "\n",
    "According to Latanya Sweeney's work[1](#fn1), 87% of people in the US can be uniquely re-identified by the combination of date of birth, gender, and ZIP code.\n",
    "\n",
    "<span id=\"fn1\">**[1]**: Sweeney, L, _Simple Demographics Often Identify People Uniquely_ [link](https://dataprivacylab.org/projects/identifiability/)</span>"
   ]
  },
  {
   "cell_type": "markdown",
   "metadata": {},
   "source": [
    "Let's just check that we've actually re-identified *everyone*, by printing out the number of possible data records for each identity:"
   ]
  },
  {
   "cell_type": "code",
   "execution_count": null,
   "metadata": {
    "tags": [
     "hide-input"
    ]
   },
   "outputs": [],
   "source": [
    "attack['Name'].value_counts(ascending=False).head()"
   ]
  },
  {
   "cell_type": "markdown",
   "metadata": {},
   "source": [
    "Looks like we missed two people! In other words, in this dataset, only **two people** share a combination of ZIP code and date of birth."
   ]
  },
  {
   "cell_type": "markdown",
   "metadata": {},
   "source": [
    "## Aggregation"
   ]
  },
  {
   "cell_type": "markdown",
   "metadata": {},
   "source": [
    "Another way to prevent the release of private information is to release only **aggregate** date."
   ]
  },
  {
   "cell_type": "code",
   "execution_count": null,
   "metadata": {},
   "outputs": [],
   "source": [
    "# Let's take the Age as an example\n",
    "adult['Age'].mean()"
   ]
  },
  {
   "cell_type": "markdown",
   "metadata": {},
   "source": [
    "### Problem of Small Groups"
   ]
  },
  {
   "cell_type": "markdown",
   "metadata": {},
   "source": [
    "In many cases, aggregate statistics are broken down into smaller groups. \n",
    "\n",
    "For example, we might want to know the average age of people with a particular education level."
   ]
  },
  {
   "cell_type": "code",
   "execution_count": null,
   "metadata": {},
   "outputs": [],
   "source": [
    "adult[['Education-Num', 'Age']].groupby('Education-Num').mean().head(3)"
   ]
  },
  {
   "cell_type": "markdown",
   "metadata": {},
   "source": [
    "Aggregation is supposed to _improve privacy_ because it's hard to identify the contribution of a particular individual to the aggregate statistic. \n",
    "\n",
    "But what if we aggregate over a group with just *one person* in it? \n",
    "\n",
    "In that case, the aggregate statistic reveals one person's age *exactly*, and provides no privacy protection at all! \n",
    "\n",
    "In our dataset, most individuals have a unique `ZIP` code - so if we compute the average age by ZIP code, then most of the \"averages\" actually reveal an individual's exact age."
   ]
  },
  {
   "cell_type": "code",
   "execution_count": null,
   "metadata": {},
   "outputs": [],
   "source": [
    "adult[['Zip', 'Age']].groupby('Zip').mean().head()"
   ]
  },
  {
   "cell_type": "markdown",
   "metadata": {},
   "source": [
    "The US Census Bureau, for example, releases aggregate statistics at the [*block level*](https://www.census.gov/newsroom/blogs/random-samplings/2011/07/what-are-census-blocks.html). \n",
    "\n",
    "Some census blocks have large populations, but some have a population of zero! \n",
    "\n",
    "The situation above, where small groups prevent aggregation from hiding information about individuals, turns out to be quite common.\n",
    "\n",
    "How big a group is \"big enough\" for aggregate statistics to help? \n",
    "\n",
    "It's hard to say - it depends on the data and on the attack - so it's challenging to build confidence that aggregate statistics are really privacy-preserving. \n",
    "\n",
    "However, even very large groups do not make aggregation completely robust against attacks, as we will see next."
   ]
  },
  {
   "cell_type": "markdown",
   "metadata": {},
   "source": [
    "### Differencing Attacks"
   ]
  },
  {
   "cell_type": "markdown",
   "metadata": {},
   "source": [
    "The problems with aggregation get even worse when you release multiple aggregate statistics over the same data. \n",
    "\n",
    "For example, consider the following two summation queries over large groups in our dataset (the first over the whole dataset, and the second over all records except one):"
   ]
  },
  {
   "cell_type": "code",
   "execution_count": null,
   "metadata": {},
   "outputs": [],
   "source": [
    "adult['Age'].sum()"
   ]
  },
  {
   "cell_type": "code",
   "execution_count": null,
   "metadata": {},
   "outputs": [],
   "source": [
    "adult[adult['Name'] != 'Karrie Trusslove']['Age'].sum()"
   ]
  },
  {
   "cell_type": "markdown",
   "metadata": {},
   "source": [
    "If we know both answers, we can simply take the difference and determine Karrie's age completely! \n",
    "\n",
    "This kind of attack can proceed even if the aggregate statistics are over *very large groups*."
   ]
  },
  {
   "cell_type": "code",
   "execution_count": null,
   "metadata": {
    "scrolled": true
   },
   "outputs": [],
   "source": [
    "adult['Age'].sum() - adult[adult['Name'] != 'Karrie Trusslove']['Age'].sum()"
   ]
  },
  {
   "cell_type": "markdown",
   "metadata": {},
   "source": [
    "#### Take away message\n",
    "\n",
    "(This is a recurring theme:)\n",
    "\n",
    "1. Releasing *data* that is useful makes ensuring *privacy* very difficult.\n",
    "\n",
    "2. Distinguishing between *malicious* and *non-malicious* queries is not possible (in general)."
   ]
  },
  {
   "cell_type": "markdown",
   "metadata": {},
   "source": [
    "## Summary"
   ]
  },
  {
   "cell_type": "markdown",
   "metadata": {},
   "source": [
    "- A *Linking attack* involves combining *auxiliary data* with *de-identified data* to *re-identify* individuals.\n",
    "\n",
    "- In the simplest case, a linking attack can be performed via a *join* of two tables containing these datasets.\n",
    "\n",
    "- Simple linking attacks are surprisingly effective:\n",
    "  - Just a single data point is sufficient to narrow things down to a few records\n",
    "  - The narrowed-down set of records helps suggest additional auxiliary data which might be helpful\n",
    "  - Two data points are often good enough to re-identify a huge fraction of the population in a particular dataset\n",
    "  - Three data points (gender, ZIP code, date of birth) uniquely identify 87% of people in the US\n",
    "\n",
    "\n",
    "\n",
    "- Releasing aggregate statistics is another way to not disclose sensitive information.\n",
    "\n",
    "  - But sometimes aggregating per groups could lead to sensitive data leakage nonetheless.\n",
    "  - A *Differencing Attack* involves gathering some information out from auxiliary info and aggregate statistics. "
   ]
  }
 ],
 "metadata": {
  "kernelspec": {
   "display_name": "Python 3 (ipykernel)",
   "language": "python",
   "name": "python3"
  },
  "language_info": {
   "codemirror_mode": {
    "name": "ipython",
    "version": 3
   },
   "file_extension": ".py",
   "mimetype": "text/x-python",
   "name": "python",
   "nbconvert_exporter": "python",
   "pygments_lexer": "ipython3",
   "version": "3.12.3"
  }
 },
 "nbformat": 4,
 "nbformat_minor": 4
}
