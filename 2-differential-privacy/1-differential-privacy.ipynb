{
 "cells": [
  {
   "cell_type": "code",
   "execution_count": null,
   "metadata": {},
   "outputs": [],
   "source": [
    "# Optional: setup NoTexBook theme\n",
    "%load_ext notexbook\n",
    "%texify -fs 18"
   ]
  },
  {
   "cell_type": "markdown",
   "metadata": {},
   "source": [
    "**Adapted from**: [Ch3](https://github.com/uvm-plaid/programming-dp/blob/master/notebooks/ch3.ipynb)"
   ]
  },
  {
   "cell_type": "markdown",
   "metadata": {},
   "source": [
    "# Differential Privacy"
   ]
  },
  {
   "cell_type": "markdown",
   "metadata": {},
   "source": [
    "## Definition"
   ]
  },
  {
   "cell_type": "markdown",
   "metadata": {},
   "source": [
    "Like $k$-Anonymity, *differential privacy*[3](#fn3) is a **formal notion of privacy** \n",
    "(i.e. it's possible to prove that a data release has the property). \n",
    "\n",
    "Unlike $k$-Anonymity, however, **differential privacy** is a property of *algorithms*, and not a property of *data*. \n",
    "\n",
    "That is, we can prove a *dataset* satisfies differential privacy by proving that an *algorithm* satisfies differential privacy.\n",
    "\n",
    "> **Definition**:\n",
    ">\n",
    "> A function which satisfies differential privacy is often called a *mechanism*. \n",
    "> We say that a *mechanism* $F$ satisfies differential privacy if for all *neighboring datasets* $x$ and $x'$, \n",
    "> and all possible outputs $S$,\n",
    ">\n",
    "\n",
    "\\begin{equation}\n",
    "\\frac{\\mathsf{Pr}[F(x) = S]}{\\mathsf{Pr}[F(x') = S]} \\leq e^\\epsilon\n",
    "\\end{equation}"
   ]
  },
  {
   "cell_type": "markdown",
   "metadata": {},
   "source": [
    "**1. Neighbours Datasets**:\n",
    "\n",
    "Two datasets are considered **neighbours** if they differ in the data by **one single individual**.\n",
    "\n",
    "**2. $F$ Randomised Function**:\n",
    "\n",
    "Note that $F$ is typically a *randomised* function, so that the probability distribution describing its outputs is not just a point distribution.\n",
    "\n",
    "The important implication of this definition is that $F$'s output will be pretty much the same, *with or without* the data of any specific individual.\n",
    "\n",
    "In other words, the randomness built into $F$ should be \"enough\" so that an observed output from $F$ will not reveal which of $x$ or $x'$ was the input.\n",
    "\n",
    "Imagine that my data is present in $x$ but not in $x'$.\n",
    "\n",
    "**3. The Privacy Budget: $\\epsilon$**:\n",
    "\n",
    "If an adversary can't determine which of $x$ or $x'$ was the input to $F$, then the adversary can't tell whether or not my data was *present* in the input - let alone the contents of that data.\n",
    "\n",
    "The $\\epsilon$ parameter in the definition is called the *privacy parameter* or the *privacy budget*.\n",
    "\n",
    "$\\epsilon$ provides a knob to tune the **amount of privacy** the definition provides."
   ]
  },
  {
   "cell_type": "markdown",
   "metadata": {},
   "source": [
    "Small values of $\\epsilon$ require $F$ to provide *very* similar outputs when given similar inputs, and therefore provide **higher levels** of privacy.\n",
    "\n",
    "Large values of $\\epsilon$ allow less similarity in the outputs, and therefore provide **less privacy**.\n",
    "\n",
    "\n",
    "- Small values $\\epsilon \\rightarrow$ High Privacy\n",
    "- Large values $\\epsilon \\rightarrow$ Less Privacy\n",
    "\n",
    "How should we set $\\epsilon$ to prevent bad outcomes in practice? **Nobody knows** (i.e. Open Research Question). \n",
    "\n",
    "The general consensus is that $\\epsilon$ should be around `1` or smaller, and values of $\\epsilon$ above `10` probably don't do much to protect privacy - but this rule of thumb could turn out to be very conservative. \n",
    "\n",
    "<span id=\"fn3\">**[3]**: Dwork, C; _Differential Privacy_ in Proceedings of the 33rd International Conference on Automata, Languages and Programming - Volume Part II, 2006 [link](https://doi.org/10.1007/11787006_1)</span>"
   ]
  },
  {
   "cell_type": "markdown",
   "metadata": {},
   "source": [
    "\n",
    ">**Learning Objectives**\n",
    ">\n",
    "> - Define differential privacy\n",
    "> - Explain the importance of the privacy parameter $\\epsilon$\n",
    "> - Use the Laplace mechanism to enforce differential privacy for counting queries"
   ]
  },
  {
   "cell_type": "markdown",
   "metadata": {},
   "source": [
    "## The Laplace Mechanism"
   ]
  },
  {
   "cell_type": "markdown",
   "metadata": {},
   "source": [
    "Differential privacy is typically used to answer specific queries. Let's consider a query on the census data, *without* differential privacy."
   ]
  },
  {
   "cell_type": "code",
   "execution_count": 1,
   "metadata": {
    "tags": [
     "remove-cell"
    ]
   },
   "outputs": [],
   "source": [
    "import pandas as pd\n",
    "import numpy as np\n",
    "import matplotlib.pyplot as plt\n",
    "plt.style.use('seaborn-v0_8-whitegrid')"
   ]
  },
  {
   "cell_type": "code",
   "execution_count": 2,
   "metadata": {},
   "outputs": [],
   "source": [
    "DATASET_URL = \"https://raw.githubusercontent.com/uvm-plaid/programming-dp/master/notebooks/adult_with_pii.csv\"\n",
    "adult = pd.read_csv(DATASET_URL)"
   ]
  },
  {
   "cell_type": "markdown",
   "metadata": {},
   "source": [
    "**Q** \"How many individuals in the dataset are 40 years old or older?\"\n",
    "\n",
    "This is an example of a **Count Query**."
   ]
  },
  {
   "cell_type": "code",
   "execution_count": 3,
   "metadata": {},
   "outputs": [
    {
     "data": {
      "text/plain": [
       "14237"
      ]
     },
     "execution_count": 3,
     "metadata": {},
     "output_type": "execute_result"
    }
   ],
   "source": [
    "adult[adult['Age'] >= 40].shape[0]"
   ]
  },
  {
   "cell_type": "markdown",
   "metadata": {},
   "source": [
    "## Laplace Mechanism"
   ]
  },
  {
   "cell_type": "markdown",
   "metadata": {},
   "source": [
    "The easiest way to achieve differential privacy for this query is to add **random noise to its answer**. \n",
    "\n",
    "The key challenge is to add enough noise to satisfy the definition of differential privacy, but not so much that the answer becomes too noisy to be useful. \n",
    "\n",
    "To make this process easier, some basic *mechanisms* have been developed in the field of differential privacy, which describe exactly what kind of - and how much - noise to use. \n",
    "\n",
    "One of these is called the *Laplace mechanism*[4](#fn4).\n",
    "\n",
    "> **Definition**\n",
    "> \n",
    ">According to the Laplace mechanism, for a function $f(x)$ which returns a number, the following definition of $F(x)$ satisfies $\\epsilon$-differential privacy:\n",
    ">\n",
    ">\\begin{equation}\n",
    "F(x) = f(x) + \\textsf{Lap}(\\frac{s}{\\epsilon})\n",
    "\\end{equation}\n",
    ">\n",
    ">where $s$ is the *sensitivity* of $f$, and $\\textsf{Lap}(S)$ denotes sampling from the Laplace distribution with center 0 and scale $S$.\n",
    "\n",
    "\n",
    "**Sensitivity**:\n",
    "\n",
    "The *sensitivity* of a function $f$ is the amount $f$'s output changes when its input changes by 1. \n",
    "\n",
    "Sensitivity is a complex topic, and an integral part of designing differentially private algorithms. \n",
    "\n",
    "Let's just point out that *counting queries* always have a sensitivity of `1`: if a query counts the number of rows in the dataset with a particular property, and then we modify exactly one row of the dataset, then the query's output can change by at most `1`.\n",
    "\n",
    "Thus we can achieve differential privacy for our example query by using the `Laplace mechanism` with `sensitivity=1` and an $\\epsilon$ of our choosing.\n",
    "\n",
    "For now, let's pick $\\epsilon = 0.1$. We can sample from the Laplace distribution using Numpy's `random.laplace`.\n",
    "\n",
    "<span id=\"fn4\">**[4]**: Dwork, C.; _Calibrating Noise to Sensitivity in Private Data Analysis_ in Proceedings of the Third Conference on Theory of Cryptography, 2006 [link](https://doi.org/10.1007/11681878_14)</span>"
   ]
  },
  {
   "cell_type": "code",
   "execution_count": 4,
   "metadata": {},
   "outputs": [
    {
     "data": {
      "text/plain": [
       "14260.183167579302"
      ]
     },
     "execution_count": 4,
     "metadata": {},
     "output_type": "execute_result"
    }
   ],
   "source": [
    "sensitivity = 1\n",
    "epsilon = 0.1\n",
    "\n",
    "adult[adult['Age'] >= 40].shape[0] + np.random.laplace(loc=0, scale=sensitivity/epsilon)"
   ]
  },
  {
   "cell_type": "markdown",
   "metadata": {},
   "source": [
    "You can see the effect of the noise by running this code multiple times. Each time, the output changes, but most of the time, the answer is close enough to the true answer (14,235) to be useful."
   ]
  },
  {
   "cell_type": "code",
   "execution_count": 10,
   "metadata": {},
   "outputs": [
    {
     "name": "stdout",
     "output_type": "stream",
     "text": [
      "True Count Statistic: 14237\n",
      "0) 14239.40\n",
      "1) 14241.20\n",
      "2) 14266.59\n",
      "3) 14241.97\n",
      "4) 14214.63\n",
      "5) 14236.03\n",
      "6) 14237.77\n",
      "7) 14241.67\n",
      "8) 14274.33\n",
      "9) 14234.43\n",
      "10) 14242.35\n",
      "11) 14233.91\n",
      "12) 14256.16\n",
      "13) 14230.47\n",
      "14) 14257.43\n",
      "15) 14239.53\n",
      "16) 14216.46\n",
      "17) 14254.50\n",
      "18) 14236.64\n",
      "19) 14233.84\n",
      "20) 14209.70\n",
      "21) 14250.65\n",
      "22) 14237.71\n",
      "23) 14244.29\n",
      "24) 14236.23\n",
      "25) 14242.09\n",
      "26) 14213.56\n",
      "27) 14238.93\n",
      "28) 14234.63\n",
      "29) 14252.44\n"
     ]
    }
   ],
   "source": [
    "true_count_stat = adult[adult['Age'] >= 40].shape[0]\n",
    "Lap = np.random.laplace(loc=0, scale=sensitivity/epsilon, size=30)\n",
    "print(f\"True Count Statistic: {true_count_stat}\")\n",
    "for i in range(30):\n",
    "    print(f\"{i}) {(true_count_stat + Lap[i]):0.2f}\")"
   ]
  },
  {
   "cell_type": "markdown",
   "metadata": {},
   "source": [
    "## How Much Noise is Enough?"
   ]
  },
  {
   "cell_type": "markdown",
   "metadata": {},
   "source": [
    "How do we know that the Laplace mechanism adds enough noise to prevent the re-identification of individuals in the dataset? \n",
    "\n",
    "For one thing, we can try to break it!\n",
    "\n",
    "Let's write down a **malicious counting query**, which is specifically designed to determine whether Karrie Trusslove has an income greater than `$50k`."
   ]
  },
  {
   "cell_type": "code",
   "execution_count": 11,
   "metadata": {},
   "outputs": [
    {
     "data": {
      "text/plain": [
       "1"
      ]
     },
     "execution_count": 11,
     "metadata": {},
     "output_type": "execute_result"
    }
   ],
   "source": [
    "karries_row = adult[adult['Name'] == 'Karrie Trusslove']\n",
    "karries_row[karries_row['Target'] == '<=50K'].shape[0]"
   ]
  },
  {
   "cell_type": "markdown",
   "metadata": {},
   "source": [
    "This result definitely violates Karrie's privacy, since it reveals the value of the income column for Karrie's row.\n",
    "\n",
    "Since we know how to ensure differential privacy for counting queries with the Laplace mechanism, we can do so for this query:"
   ]
  },
  {
   "cell_type": "code",
   "execution_count": 14,
   "metadata": {},
   "outputs": [
    {
     "data": {
      "text/plain": [
       "24.994840863781718"
      ]
     },
     "execution_count": 14,
     "metadata": {},
     "output_type": "execute_result"
    }
   ],
   "source": [
    "sensitivity = 1\n",
    "epsilon = 0.1\n",
    "\n",
    "karries_row = adult[adult['Name'] == 'Karrie Trusslove']\n",
    "karries_row[karries_row['Target'] == '<=50K'].shape[0] + np.random.laplace(loc=0, scale=sensitivity/epsilon)"
   ]
  },
  {
   "cell_type": "markdown",
   "metadata": {},
   "source": [
    "Is this the true answer ?\n",
    "\n",
    "There's too much noise to be able to reliably tell.\n",
    "\n",
    "This is how differential privacy is *intended* to work - the approach does not *reject* queries which are determined to be malicious; instead, it adds enough noise that the results of a malicious query will be useless to the adversary."
   ]
  }
 ],
 "metadata": {
  "kernelspec": {
   "display_name": "Python 3 (ipykernel)",
   "language": "python",
   "name": "python3"
  },
  "language_info": {
   "codemirror_mode": {
    "name": "ipython",
    "version": 3
   },
   "file_extension": ".py",
   "mimetype": "text/x-python",
   "name": "python",
   "nbconvert_exporter": "python",
   "pygments_lexer": "ipython3",
   "version": "3.10.12"
  }
 },
 "nbformat": 4,
 "nbformat_minor": 2
}
