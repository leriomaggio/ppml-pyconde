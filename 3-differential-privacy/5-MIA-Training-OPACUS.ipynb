{
 "cells": [
  {
   "cell_type": "code",
   "execution_count": null,
   "id": "0b9e9dde-7628-4d45-a408-afd93dd841ce",
   "metadata": {},
   "outputs": [],
   "source": [
    "# Optional: setup NoTexBook theme\n",
    "%load_ext notexbook\n",
    "\n",
    "%texify"
   ]
  },
  {
   "cell_type": "markdown",
   "id": "dcd69b34",
   "metadata": {},
   "source": [
    "# Model Inversion Attack - Model Training"
   ]
  },
  {
   "cell_type": "markdown",
   "id": "885f544c",
   "metadata": {},
   "source": [
    "In this notebook we will repeat the same operations done in preparation for the **Model Inversion Attack** (in section 1) \n",
    "\n",
    "The very **big** difference this time though is that we will be using **Opacus** to train our ML model.\n",
    "\n",
    "$\\rightarrow$ ‼️ The very **remarkable** thing to notice is **how little** the implementation changes wrt. to the previous notebook\n",
    "(in fact, we will be using the **same** `train` function defined previously)"
   ]
  },
  {
   "cell_type": "code",
   "execution_count": null,
   "id": "eee64647",
   "metadata": {},
   "outputs": [],
   "source": [
    "import torch as th\n",
    "import numpy as np\n",
    "\n",
    "from matplotlib import pyplot as plt\n",
    "\n",
    "%matplotlib inline"
   ]
  },
  {
   "cell_type": "code",
   "execution_count": null,
   "id": "ff722fd0",
   "metadata": {},
   "outputs": [],
   "source": [
    "import warnings\n",
    "warnings.simplefilter(\"ignore\")\n",
    "\n",
    "\n",
    "# Tweak to reuse the Python modules defined in previous section\n",
    "import sys, os\n",
    "from pathlib import Path\n",
    "\n",
    "sys.path.insert(0, os.path.join(os.path.abspath(os.path.curdir), \"..\", \"2-ml-models-attacks\"))"
   ]
  },
  {
   "cell_type": "code",
   "execution_count": null,
   "id": "9086c266",
   "metadata": {},
   "outputs": [],
   "source": [
    "from dataset import ORLFaces\n",
    "from torchvision.transforms import ToTensor, Grayscale, Compose\n",
    "from torch.utils.data import DataLoader"
   ]
  },
  {
   "cell_type": "code",
   "execution_count": null,
   "id": "bbc48ffb",
   "metadata": {},
   "outputs": [],
   "source": [
    "SEED = 123456\n",
    "\n",
    "np.random.seed(SEED)\n",
    "th.manual_seed(SEED)\n",
    "if th.cuda.is_available():\n",
    "    th.cuda.manual_seed_all(SEED)\n",
    "    th.backends.cudnn.deterministic = True"
   ]
  },
  {
   "cell_type": "code",
   "execution_count": null,
   "id": "93241bc5",
   "metadata": {},
   "outputs": [],
   "source": [
    "# NOTE: This is a hack to get around \"User-agent\" limitations when downloading MNIST datasets\n",
    "#       see, https://github.com/pytorch/vision/issues/3497 for more information\n",
    "from six.moves import urllib\n",
    "\n",
    "opener = urllib.request.build_opener()\n",
    "opener.addheaders = [(\"User-agent\", \"Mozilla/5.0\")]\n",
    "urllib.request.install_opener(opener)\n",
    "\n",
    "from pathlib import Path\n",
    "import os\n",
    "\n",
    "DATA_FOLDER = Path(os.path.join(os.path.abspath(os.path.curdir), \"..\")) / \"data\""
   ]
  },
  {
   "cell_type": "code",
   "execution_count": null,
   "id": "c16625ec",
   "metadata": {},
   "outputs": [],
   "source": [
    "imgs_trasform = Compose([Grayscale(num_output_channels=1), ToTensor()])\n",
    "\n",
    "orl_faces_train = ORLFaces(\n",
    "    root=DATA_FOLDER, download=True, split=\"train\", transform=imgs_trasform\n",
    ")\n",
    "orl_faces_test = ORLFaces(\n",
    "    root=DATA_FOLDER, download=True, split=\"test\", transform=imgs_trasform\n",
    ")"
   ]
  },
  {
   "cell_type": "code",
   "execution_count": null,
   "id": "b9ae6a51",
   "metadata": {},
   "outputs": [],
   "source": [
    "BATCH_SIZE = 32\n",
    "\n",
    "train_loader = DataLoader(\n",
    "    orl_faces_train, batch_size=BATCH_SIZE, shuffle=True, drop_last=False\n",
    ")\n",
    "test_loader = DataLoader(\n",
    "    orl_faces_test, batch_size=BATCH_SIZE, shuffle=False, drop_last=False\n",
    ")"
   ]
  },
  {
   "cell_type": "markdown",
   "id": "425c305c",
   "metadata": {},
   "source": [
    "Show some of the training images, for fun"
   ]
  },
  {
   "cell_type": "code",
   "execution_count": null,
   "id": "61e794b9",
   "metadata": {},
   "outputs": [],
   "source": [
    "from torchvision.utils import make_grid\n",
    "\n",
    "\n",
    "def imshow(img):\n",
    "    npimg = img.numpy()\n",
    "    plt.figure(figsize=(10, 12))\n",
    "    plt.imshow(np.transpose(npimg, (1, 2, 0)))\n",
    "    plt.show()"
   ]
  },
  {
   "cell_type": "code",
   "execution_count": null,
   "id": "6008bf8c",
   "metadata": {},
   "outputs": [],
   "source": [
    "# get some random training images\n",
    "images, labels = next(iter(train_loader))"
   ]
  },
  {
   "cell_type": "code",
   "execution_count": null,
   "id": "8e03a7f6",
   "metadata": {},
   "outputs": [],
   "source": [
    "# show images\n",
    "imshow(make_grid(images))\n",
    "# print labels\n",
    "print(\" \".join(f\"{labels[j]}\" for j in range(BATCH_SIZE)))"
   ]
  },
  {
   "cell_type": "markdown",
   "id": "cdc04e1d",
   "metadata": {},
   "source": [
    "## Privacy Parameters and Opacus"
   ]
  },
  {
   "cell_type": "code",
   "execution_count": null,
   "id": "e0d1c795",
   "metadata": {},
   "outputs": [],
   "source": [
    "from models import SoftmaxRegression, MLP"
   ]
  },
  {
   "cell_type": "code",
   "execution_count": null,
   "id": "62df081d",
   "metadata": {},
   "outputs": [],
   "source": [
    "softmax_reg = SoftmaxRegression()"
   ]
  },
  {
   "cell_type": "code",
   "execution_count": null,
   "id": "b5030c0e",
   "metadata": {},
   "outputs": [],
   "source": [
    "from opacus.validators import ModuleValidator\n",
    "\n",
    "errors = ModuleValidator.validate(softmax_reg, strict=False)\n",
    "errors"
   ]
  },
  {
   "cell_type": "code",
   "execution_count": null,
   "id": "dd545cdb",
   "metadata": {},
   "outputs": [],
   "source": [
    "λ = 0.1 # optimiser learning rate"
   ]
  },
  {
   "cell_type": "code",
   "execution_count": null,
   "id": "67025880",
   "metadata": {},
   "outputs": [],
   "source": [
    "softmax_reg = SoftmaxRegression()\n",
    "softmax_sgd = th.optim.SGD(softmax_reg.parameters(), lr=λ)"
   ]
  },
  {
   "cell_type": "code",
   "execution_count": null,
   "id": "9449cbff",
   "metadata": {},
   "outputs": [],
   "source": [
    "from opacus import PrivacyEngine"
   ]
  },
  {
   "cell_type": "code",
   "execution_count": null,
   "id": "cb9ff406",
   "metadata": {},
   "outputs": [],
   "source": [
    "from train import train"
   ]
  },
  {
   "cell_type": "code",
   "execution_count": null,
   "id": "74c6ecf0",
   "metadata": {},
   "outputs": [],
   "source": [
    "MAX_GRAD_NORM = 1.2\n",
    "EPSILON = 50\n",
    "DELTA = 1e-5\n",
    "EPOCHS = 200  # we have increased by 100 the number of epochs of training"
   ]
  },
  {
   "cell_type": "code",
   "execution_count": null,
   "id": "562a43d0",
   "metadata": {},
   "outputs": [],
   "source": [
    "privacy_engine = PrivacyEngine(accountant=\"gdp\")\n",
    "\n",
    "softmax_reg, softmax_sgd, train_loader = privacy_engine.make_private_with_epsilon(\n",
    "    module=softmax_reg,\n",
    "    optimizer=softmax_sgd,\n",
    "    data_loader=train_loader,\n",
    "    epochs=EPOCHS,\n",
    "    target_epsilon=EPSILON,\n",
    "    target_delta=DELTA,\n",
    "    max_grad_norm=MAX_GRAD_NORM,\n",
    ")\n",
    "\n",
    "print(f\"Using sigma={softmax_sgd.noise_multiplier} and C={MAX_GRAD_NORM}\")"
   ]
  },
  {
   "cell_type": "code",
   "execution_count": null,
   "id": "4f9c046a",
   "metadata": {},
   "outputs": [],
   "source": [
    "train(model=softmax_reg, optimiser=softmax_sgd, loaders=(train_loader, test_loader), \n",
    "      model_name=\"softmax_reg_opacus_test\", verbose=False, epochs=EPOCHS)"
   ]
  }
 ],
 "metadata": {
  "kernelspec": {
   "display_name": "Python 3 (ipykernel)",
   "language": "python",
   "name": "python3"
  },
  "language_info": {
   "codemirror_mode": {
    "name": "ipython",
    "version": 3
   },
   "file_extension": ".py",
   "mimetype": "text/x-python",
   "name": "python",
   "nbconvert_exporter": "python",
   "pygments_lexer": "ipython3",
   "version": "3.12.3"
  }
 },
 "nbformat": 4,
 "nbformat_minor": 5
}
