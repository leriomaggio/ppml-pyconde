{
 "cells": [
  {
   "attachments": {},
   "cell_type": "markdown",
   "id": "66212187",
   "metadata": {},
   "source": [
    "# Test your Environment"
   ]
  },
  {
   "attachments": {},
   "cell_type": "markdown",
   "id": "45d9726a",
   "metadata": {},
   "source": [
    "In this notebook you will find the few (and simple) steps that are required to test the environment that is required to execute all the code examples in the tutorial."
   ]
  },
  {
   "cell_type": "code",
   "execution_count": 2,
   "id": "066ef2c5",
   "metadata": {},
   "outputs": [],
   "source": [
    "from collections import namedtuple\n",
    "\n",
    "Package = namedtuple(\"Package\", [\"name\", \"major\", \"minor\"])"
   ]
  },
  {
   "cell_type": "code",
   "execution_count": 3,
   "id": "fab6146c",
   "metadata": {},
   "outputs": [],
   "source": [
    "PKGS_INFO = {\n",
    "    'matplotlib': Package(name=\"matplotlib\", major=3, minor=7),\n",
    "    'numpy': Package(\"numpy\", 1, 24),\n",
    "    'pandas': Package(\"pandas\", 1, 5),\n",
    "    'pytorch': Package(\"torch\", 1, 13),\n",
    "    'scikit-learn': Package(\"sklearn\", 1, 2),\n",
    "    'scipy': Package(\"scipy\", 1, 10),\n",
    "    'torchvision': Package(\"torchvision\", 0, 14),\n",
    "    'opacus': Package(\"opacus\", 1, 4),\n",
    "    'flwr': Package(\"flwr\", 1, 4),\n",
    "    'phe': Package(\"phe\", 1, 5)\n",
    "}"
   ]
  },
  {
   "cell_type": "code",
   "execution_count": 4,
   "id": "26f02be3",
   "metadata": {},
   "outputs": [],
   "source": [
    "from importlib import import_module\n",
    "\n",
    "def check_version(name: str, package: Package) -> bool:\n",
    "    module = import_module(package.name)\n",
    "    print(f\"Import {name.title()}: \", end=\" \")\n",
    "    version = module.__version__\n",
    "    major, minor, *_ = tuple(map(int, version.split(\".\")))\n",
    "    check = package.major <= major or (package.major == major and package.minor <= minor)\n",
    "    if not check:\n",
    "        print(\"FAIL\")\n",
    "        print(f\"In this tutorial we will be using {name} {package.major}.{package.minor} - found {version} instead\")\n",
    "    else:\n",
    "        print(\"OK\")\n",
    "\n",
    "\n",
    "def check_package_versions():\n",
    "    for name, package in PKGS_INFO.items():\n",
    "        check_version(name=name, package=package)\n"
   ]
  },
  {
   "cell_type": "code",
   "execution_count": 5,
   "id": "3ddf73ab",
   "metadata": {},
   "outputs": [
    {
     "name": "stdout",
     "output_type": "stream",
     "text": [
      "Import Matplotlib:  OK\n",
      "Import Numpy:  OK\n",
      "Import Pandas:  OK\n",
      "Import Pytorch:  OK\n",
      "Import Scikit-Learn:  OK\n",
      "Import Scipy:  OK\n",
      "Import Torchvision:  OK\n",
      "Import Opacus:  OK\n",
      "Import Flwr:  OK\n",
      "Import Phe:  OK\n"
     ]
    }
   ],
   "source": [
    "check_package_versions()"
   ]
  }
 ],
 "metadata": {
  "kernelspec": {
   "display_name": "Python 3 (ipykernel)",
   "language": "python",
   "name": "python3"
  },
  "language_info": {
   "codemirror_mode": {
    "name": "ipython",
    "version": 3
   },
   "file_extension": ".py",
   "mimetype": "text/x-python",
   "name": "python",
   "nbconvert_exporter": "python",
   "pygments_lexer": "ipython3",
   "version": "3.10.11"
  }
 },
 "nbformat": 4,
 "nbformat_minor": 5
}
