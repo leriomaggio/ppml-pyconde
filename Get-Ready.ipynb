{
 "cells": [
  {
   "attachments": {},
   "cell_type": "markdown",
   "id": "66212187",
   "metadata": {},
   "source": [
    "# Test your Environment"
   ]
  },
  {
   "attachments": {},
   "cell_type": "markdown",
   "id": "45d9726a",
   "metadata": {},
   "source": [
    "In this notebook you will find the few (and simple) steps that are required to test the environment that is required to execute all the code examples in the tutorial."
   ]
  },
  {
   "attachments": {},
   "cell_type": "markdown",
   "id": "00e4890b",
   "metadata": {},
   "source": [
    "### Running Local \n",
    "\n",
    "If you're running this notebook from your local computer, please remember to **activate** the new `ppml` environment before running the following cells (or to select appropriate kernel)\n",
    "\n",
    "### Running on Anaconda Notebooks\n",
    "\n",
    "If you're running this notebook from Anaconda notebook, please _uncomment_ the following lines to install the few missing packages:"
   ]
  },
  {
   "cell_type": "code",
   "execution_count": null,
   "id": "97067130",
   "metadata": {},
   "outputs": [],
   "source": [
    "# Uncomment the following lines if running on Anaconda notebooks\n",
    "# pip install opacus\n",
    "# pip install flwr\n",
    "# pip install notexbook-theme"
   ]
  },
  {
   "cell_type": "code",
   "execution_count": 1,
   "id": "540745b0",
   "metadata": {},
   "outputs": [],
   "source": [
    "import numpy as np\n",
    "import sklearn as sk\n",
    "import torch as th\n",
    "import opacus\n",
    "import flwr\n",
    "\n",
    "from matplotlib import pyplot as plt\n",
    "\n",
    "%matplotlib inline"
   ]
  },
  {
   "cell_type": "code",
   "execution_count": 2,
   "id": "36f2bf29",
   "metadata": {},
   "outputs": [
    {
     "name": "stdout",
     "output_type": "stream",
     "text": [
      "1.24.3\n",
      "1.2.2\n",
      "1.13.1\n",
      "1.4.0\n",
      "1.4.0\n"
     ]
    }
   ],
   "source": [
    "print(np.__version__)\n",
    "print(sk.__version__)\n",
    "print(th.__version__)\n",
    "print(opacus.__version__)\n",
    "print(flwr.__version__)"
   ]
  },
  {
   "cell_type": "code",
   "execution_count": 3,
   "id": "28e27e4e",
   "metadata": {},
   "outputs": [],
   "source": [
    "assert (np_v := np.__version__) == \"1.24.3\", f\"In this tutorial we will be using NumPy 1.23.3 - found {np_v} instead\""
   ]
  },
  {
   "cell_type": "code",
   "execution_count": 4,
   "id": "eb26c808",
   "metadata": {},
   "outputs": [],
   "source": [
    "assert (sk_v := sk.__version__) == \"1.2.2\", f\"In this tutorial we will be using Scikit-Learn 1.2.2 - found {sk_v} instead\""
   ]
  },
  {
   "cell_type": "code",
   "execution_count": 5,
   "id": "cdbbc1c2",
   "metadata": {},
   "outputs": [],
   "source": [
    "assert (th_v := th.__version__) == \"1.13.1\", f\"In this tutorial we will be PyTorch 1.13.1 - found {th_v} instead\""
   ]
  },
  {
   "cell_type": "code",
   "execution_count": 6,
   "id": "f119c577",
   "metadata": {},
   "outputs": [],
   "source": [
    "assert (op_v := opacus.__version__) == \"1.4.0\", f\"In this tutorial we will be using Opacus 1.4.0 - found {op_v} instead\""
   ]
  },
  {
   "cell_type": "code",
   "execution_count": 7,
   "id": "f801778f",
   "metadata": {},
   "outputs": [],
   "source": [
    "assert (flwr_v := flwr.__version__) == \"1.4.0\", f\"In this tutorial we will be using Flwr 1.4.0 - found {flwr_v} instead\""
   ]
  }
 ],
 "metadata": {
  "kernelspec": {
   "display_name": "Python 3 (ipykernel)",
   "language": "python",
   "name": "python3"
  },
  "language_info": {
   "codemirror_mode": {
    "name": "ipython",
    "version": 3
   },
   "file_extension": ".py",
   "mimetype": "text/x-python",
   "name": "python",
   "nbconvert_exporter": "python",
   "pygments_lexer": "ipython3",
   "version": "3.10.11"
  }
 },
 "nbformat": 4,
 "nbformat_minor": 5
}
