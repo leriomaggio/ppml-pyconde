{
 "cells": [
  {
   "cell_type": "code",
   "execution_count": null,
   "id": "a824d6cb",
   "metadata": {},
   "outputs": [],
   "source": [
    "# Optional: setup NoTexBook theme\n",
    "%load_ext notexbook\n",
    "\n",
    "%texify"
   ]
  },
  {
   "cell_type": "markdown",
   "id": "6c252d52",
   "metadata": {},
   "source": [
    "# Introducing The Private AI Series \n",
    "\n",
    "![](https://blog.openmined.org/content/images/2019/02/logo.png)"
   ]
  },
  {
   "cell_type": "markdown",
   "id": "abb9cf1c",
   "metadata": {},
   "source": [
    "![private ai header](https://raw.githubusercontent.com/leriomaggio/ppml-tutorial/main/4-federated-learning/private_ai.png)"
   ]
  },
  {
   "cell_type": "markdown",
   "id": "a02db999",
   "metadata": {},
   "source": [
    "![private AI courses](https://raw.githubusercontent.com/leriomaggio/ppml-tutorial/main/4-federated-learning/private_ai_courses.png)"
   ]
  },
  {
   "cell_type": "markdown",
   "id": "c2da02ae",
   "metadata": {},
   "source": []
  }
 ],
 "metadata": {
  "kernelspec": {
   "display_name": "Python 3 (ipykernel)",
   "language": "python",
   "name": "python3"
  },
  "language_info": {
   "codemirror_mode": {
    "name": "ipython",
    "version": 3
   },
   "file_extension": ".py",
   "mimetype": "text/x-python",
   "name": "python",
   "nbconvert_exporter": "python",
   "pygments_lexer": "ipython3",
   "version": "3.10.12"
  }
 },
 "nbformat": 4,
 "nbformat_minor": 5
}
