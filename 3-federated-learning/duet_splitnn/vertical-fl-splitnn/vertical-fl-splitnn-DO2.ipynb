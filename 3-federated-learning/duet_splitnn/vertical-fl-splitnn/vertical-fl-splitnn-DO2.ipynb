{
 "cells": [
  {
   "cell_type": "code",
   "execution_count": null,
   "id": "748990ff-171a-496a-90dc-67fb2850d1fb",
   "metadata": {},
   "outputs": [],
   "source": [
    "##! IGNORE THIS if running on Google Colab\n",
    "%load_ext notexbook\n",
    "\n",
    "%texify"
   ]
  },
  {
   "cell_type": "markdown",
   "id": "60412a8c",
   "metadata": {},
   "source": [
    "<img src=\"https://mybinder.readthedocs.io/en/latest/_static/favicon.png\" class=\"maxw5\" width=\"5%\" />\n",
    "\n",
    "**Note** Please note that this notebook won't work on MyBinder. Please consider using Colab, instead. \n",
    "[![Open In Colab](https://colab.research.google.com/assets/colab-badge.svg)](https://colab.research.google.com/github/leriomaggio/ppml-tutorial/blob/main/3-federated-learning/duet_splitnn/vertical-fl-splitnn/vertical-fl-splitnn-DO2.ipynb)"
   ]
  },
  {
   "cell_type": "markdown",
   "id": "5e7d9662-1f5a-4e33-823b-7b48260e65bd",
   "metadata": {},
   "source": [
    "<img src=\"https://colab.research.google.com/img/colab_favicon_256px.png\" width=\"5%\" class=\"badges\" />"
   ]
  },
  {
   "cell_type": "code",
   "execution_count": null,
   "id": "a381b722-1a5b-486c-8997-a91845fd11c1",
   "metadata": {},
   "outputs": [],
   "source": [
    "# UNCOMMENT THIS ONLY if running on Google Colab\n",
    "\n",
    "# !pip install syft==0.5.1\n",
    "# !pip install protobuf==3.20"
   ]
  },
  {
   "cell_type": "code",
   "execution_count": null,
   "id": "15006418",
   "metadata": {},
   "outputs": [],
   "source": [
    "import syft as sy \n",
    "\n",
    "duet = sy.launch_duet()  # option to add loopback=True if running locally"
   ]
  },
  {
   "cell_type": "code",
   "execution_count": null,
   "id": "6ce2a826",
   "metadata": {},
   "outputs": [],
   "source": [
    "import torch as th\n",
    "\n",
    "data = th.tensor([[0,], [1.,], [1., ], [0., ]])\n",
    "data_ptr = data.send(duet, tags=[\"tensor dataset\"], description=\"Binary Dataset Split 2\", pointable=True)\n",
    "\n",
    "duet.requests.add_handler(action=\"accept\")\n"
   ]
  },
  {
   "cell_type": "code",
   "execution_count": null,
   "id": "55914df8",
   "metadata": {},
   "outputs": [],
   "source": [
    "duet.store.pandas"
   ]
  },
  {
   "cell_type": "code",
   "execution_count": null,
   "id": "87569bad",
   "metadata": {},
   "outputs": [],
   "source": []
  }
 ],
 "metadata": {
  "kernelspec": {
   "display_name": "Python 3 (ipykernel)",
   "language": "python",
   "name": "python3"
  },
  "language_info": {
   "codemirror_mode": {
    "name": "ipython",
    "version": 3
   },
   "file_extension": ".py",
   "mimetype": "text/x-python",
   "name": "python",
   "nbconvert_exporter": "python",
   "pygments_lexer": "ipython3",
   "version": "3.10.5"
  }
 },
 "nbformat": 4,
 "nbformat_minor": 5
}
