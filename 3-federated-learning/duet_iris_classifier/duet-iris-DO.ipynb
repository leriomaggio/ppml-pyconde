{
 "cells": [
  {
   "cell_type": "code",
   "execution_count": null,
   "id": "b073ea8f-52e3-4fd3-874f-023f514a0b5a",
   "metadata": {},
   "outputs": [],
   "source": [
    "##! IGNORE THIS if running on Google Colab\n",
    "%load_ext notexbook\n",
    "\n",
    "%texify"
   ]
  },
  {
   "cell_type": "markdown",
   "id": "49c70130-3ff1-414b-b81e-cfb2b26ea1eb",
   "metadata": {},
   "source": [
    "<img src=\"https://colab.research.google.com/img/colab_favicon_256px.png\" width=\"5%\" class=\"badges\" />"
   ]
  },
  {
   "cell_type": "code",
   "execution_count": null,
   "id": "a8b8fbaa-23f9-44e6-a281-e6c77f2b67ba",
   "metadata": {},
   "outputs": [],
   "source": [
    "# UNCOMMENT THIS ONLY if running on Google Colab\n",
    "\n",
    "# !pip install syft==0.5.1\n",
    "# !pip install protobuf==3.20"
   ]
  },
  {
   "cell_type": "markdown",
   "id": "5df3363b",
   "metadata": {},
   "source": [
    "**ORIGINAL NOTEBOOK** [here](https://github.com/OpenMined/courses/tree/foundations-of-private-computation/federated-learning/duet_iris_classifier) from the PrivateAI Series"
   ]
  },
  {
   "cell_type": "code",
   "execution_count": null,
   "id": "unsigned-palace",
   "metadata": {},
   "outputs": [],
   "source": [
    "import syft as sy"
   ]
  },
  {
   "cell_type": "code",
   "execution_count": null,
   "id": "1f8815f8",
   "metadata": {},
   "outputs": [],
   "source": [
    "sy.__version__"
   ]
  },
  {
   "cell_type": "markdown",
   "id": "korean-bunch",
   "metadata": {},
   "source": [
    "# Part 1: Launch a Duet Server"
   ]
  },
  {
   "cell_type": "code",
   "execution_count": null,
   "id": "plastic-ridge",
   "metadata": {},
   "outputs": [],
   "source": [
    "duet = sy.launch_duet()  # option to add loopback=True if running locally"
   ]
  },
  {
   "cell_type": "markdown",
   "id": "wrapped-eligibility",
   "metadata": {},
   "source": [
    "# Part 2: Upload data to Duet Server"
   ]
  },
  {
   "cell_type": "markdown",
   "id": "christian-point",
   "metadata": {},
   "source": [
    "Let's say the data owner has a dataset of Iris flowers. He will upload the data to the duet server for other data scientists to use."
   ]
  },
  {
   "cell_type": "code",
   "execution_count": null,
   "id": "understood-aging",
   "metadata": {},
   "outputs": [],
   "source": [
    "from sklearn import datasets\n",
    "import torch as th\n",
    "import numpy as np\n",
    "\n",
    "SEED = 123456\n",
    "np.random.seed(SEED)"
   ]
  },
  {
   "cell_type": "code",
   "execution_count": null,
   "id": "employed-momentum",
   "metadata": {},
   "outputs": [],
   "source": [
    "iris = datasets.load_iris()\n",
    "X, y = iris.data, iris.target"
   ]
  },
  {
   "cell_type": "markdown",
   "id": "grand-differential",
   "metadata": {},
   "source": [
    "Flower species mappings:\n",
    "1. \"Iris-setosa\": 0,\n",
    "2. \"Iris-versicolor\": 1,\n",
    "3. \"Iris-virginica\": 2\n",
    "\n",
    "Flower features:\n",
    "1. sepal length (cm)\n",
    "2. sepal width (cm)\n",
    "3. petal length (cm)\n",
    "4. petal width (cm)"
   ]
  },
  {
   "cell_type": "code",
   "execution_count": null,
   "id": "royal-hacker",
   "metadata": {},
   "outputs": [],
   "source": [
    "print(\"data:\")\n",
    "print(X[0:5])"
   ]
  },
  {
   "cell_type": "code",
   "execution_count": null,
   "id": "theoretical-ownership",
   "metadata": {},
   "outputs": [],
   "source": [
    "print(\"target:\")\n",
    "print(y)"
   ]
  },
  {
   "cell_type": "code",
   "execution_count": null,
   "id": "occasional-secretary",
   "metadata": {},
   "outputs": [],
   "source": [
    "print(\"Length of dataset:\", len(X))"
   ]
  },
  {
   "cell_type": "code",
   "execution_count": null,
   "id": "numerical-carry",
   "metadata": {},
   "outputs": [],
   "source": [
    "print(type(X))"
   ]
  },
  {
   "cell_type": "code",
   "execution_count": null,
   "id": "4f6dde5a",
   "metadata": {},
   "outputs": [],
   "source": [
    "from sklearn.model_selection import train_test_split\n",
    "\n",
    "X_train, _, y_train, _ = train_test_split(X, y, random_state=SEED, test_size=0.2)"
   ]
  },
  {
   "cell_type": "code",
   "execution_count": null,
   "id": "f6600b86",
   "metadata": {},
   "outputs": [],
   "source": [
    "X_train.shape, y_train.shape"
   ]
  },
  {
   "cell_type": "markdown",
   "id": "configured-growth",
   "metadata": {},
   "source": [
    "For doing machine learning using torch, we need the data to be converted to `FloatTensors`. \n",
    "\n",
    "Here, the data owner is explicitly doing the conversion before uploading the data. \n",
    "\n",
    "If he doesn't do that, it has to be converted in the data scientist's end."
   ]
  },
  {
   "cell_type": "code",
   "execution_count": null,
   "id": "direct-sussex",
   "metadata": {},
   "outputs": [],
   "source": [
    "X = th.FloatTensor(X_train)\n",
    "y = th.FloatTensor(y_train)"
   ]
  },
  {
   "cell_type": "code",
   "execution_count": null,
   "id": "flexible-canyon",
   "metadata": {},
   "outputs": [],
   "source": [
    "print(type(X))"
   ]
  },
  {
   "cell_type": "code",
   "execution_count": null,
   "id": "assured-clinton",
   "metadata": {},
   "outputs": [],
   "source": [
    "X = X.tag(\"iris-data\")\n",
    "y = y.tag(\"iris-target\")\n",
    "\n",
    "X = X.describe(\n",
    "    \"This is a dataset for flower classification of 150 samples. 4 Features are sepal length (cm),\"\n",
    "    \"sepal width (cm), petal length (cm), petal width (cm)\"\n",
    ")\n",
    "y = y.describe(\"Labels for flowers: Iris-setosa, Iris-versicolour, Iris-virginica\")"
   ]
  },
  {
   "cell_type": "code",
   "execution_count": null,
   "id": "floating-kingston",
   "metadata": {},
   "outputs": [],
   "source": [
    "data_pointer = X.send(duet, pointable=True)\n",
    "target_pointer = y.send(duet, pointable=True)"
   ]
  },
  {
   "cell_type": "code",
   "execution_count": null,
   "id": "italic-zoning",
   "metadata": {},
   "outputs": [],
   "source": [
    "# Once uploaded, the data owner can see the object stored in the tensor\n",
    "duet.store"
   ]
  },
  {
   "cell_type": "code",
   "execution_count": null,
   "id": "dynamic-harrison",
   "metadata": {},
   "outputs": [],
   "source": [
    "# To see it in a human-readable format, data owner can also pretty-print the tensor information\n",
    "duet.store.pandas"
   ]
  },
  {
   "cell_type": "markdown",
   "id": "extreme-specific",
   "metadata": {},
   "source": [
    "# Part 3: Response to requests coming from Data Scientist"
   ]
  },
  {
   "cell_type": "markdown",
   "id": "about-career",
   "metadata": {},
   "source": [
    "The data owner can add requests to be accepted or denied by adding them to request handlers. If he doesn't specify a `name`, then all the requests will be accepted."
   ]
  },
  {
   "cell_type": "code",
   "execution_count": null,
   "id": "operational-exercise",
   "metadata": {},
   "outputs": [],
   "source": [
    "duet.requests.add_handler(action=\"accept\")"
   ]
  },
  {
   "cell_type": "markdown",
   "id": "incident-intervention",
   "metadata": {},
   "source": [
    "### <img src=\"https://github.com/OpenMined/design-assets/raw/master/logos/OM/mark-primary-light.png\" alt=\"he-black-box\" width=\"100\"/> Checkpoint 1 : Well done!"
   ]
  }
 ],
 "metadata": {
  "kernelspec": {
   "display_name": "Python 3 (ipykernel)",
   "language": "python",
   "name": "python3"
  },
  "language_info": {
   "codemirror_mode": {
    "name": "ipython",
    "version": 3
   },
   "file_extension": ".py",
   "mimetype": "text/x-python",
   "name": "python",
   "nbconvert_exporter": "python",
   "pygments_lexer": "ipython3",
   "version": "3.10.5"
  }
 },
 "nbformat": 4,
 "nbformat_minor": 5
}
